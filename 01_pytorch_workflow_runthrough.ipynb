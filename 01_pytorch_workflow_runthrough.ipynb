{
  "nbformat": 4,
  "nbformat_minor": 0,
  "metadata": {
    "colab": {
      "provenance": [],
      "gpuType": "T4",
      "authorship_tag": "ABX9TyPCJKL/1rLBeAUvQVqkrhos",
      "include_colab_link": true
    },
    "kernelspec": {
      "name": "python3",
      "display_name": "Python 3"
    },
    "language_info": {
      "name": "python"
    },
    "accelerator": "GPU"
  },
  "cells": [
    {
      "cell_type": "markdown",
      "metadata": {
        "id": "view-in-github",
        "colab_type": "text"
      },
      "source": [
        "<a href=\"https://colab.research.google.com/github/eric-sun92/pytorch_intro/blob/01_pytorch_workflow/01_pytorch_workflow_runthrough.ipynb\" target=\"_parent\"><img src=\"https://colab.research.google.com/assets/colab-badge.svg\" alt=\"Open In Colab\"/></a>"
      ]
    },
    {
      "cell_type": "code",
      "execution_count": 2,
      "metadata": {
        "id": "K2LdDh_5iOS5"
      },
      "outputs": [],
      "source": [
        "import torch\n",
        "from torch import nn\n",
        "import matplotlib.pyplot as plt\n",
        "from sklearn.model_selection import train_test_split\n",
        "\n",
        "torch.manual_seed(42)\n",
        "\n",
        "#create device-agnostic code. use GPU if available\n",
        "\n",
        "\n",
        "device = 'cuda' if torch.cuda.is_available() else \"cpu\"\n"
      ]
    },
    {
      "cell_type": "code",
      "source": [
        "!nvidia-smi"
      ],
      "metadata": {
        "colab": {
          "base_uri": "https://localhost:8080/"
        },
        "id": "cvwSzU74ivoI",
        "outputId": "563bbfd3-126f-46fa-934a-dc4302364c99"
      },
      "execution_count": 3,
      "outputs": [
        {
          "output_type": "stream",
          "name": "stdout",
          "text": [
            "Sat May 27 16:53:47 2023       \n",
            "+-----------------------------------------------------------------------------+\n",
            "| NVIDIA-SMI 525.85.12    Driver Version: 525.85.12    CUDA Version: 12.0     |\n",
            "|-------------------------------+----------------------+----------------------+\n",
            "| GPU  Name        Persistence-M| Bus-Id        Disp.A | Volatile Uncorr. ECC |\n",
            "| Fan  Temp  Perf  Pwr:Usage/Cap|         Memory-Usage | GPU-Util  Compute M. |\n",
            "|                               |                      |               MIG M. |\n",
            "|===============================+======================+======================|\n",
            "|   0  Tesla T4            Off  | 00000000:00:04.0 Off |                    0 |\n",
            "| N/A   49C    P8    10W /  70W |      3MiB / 15360MiB |      0%      Default |\n",
            "|                               |                      |                  N/A |\n",
            "+-------------------------------+----------------------+----------------------+\n",
            "                                                                               \n",
            "+-----------------------------------------------------------------------------+\n",
            "| Processes:                                                                  |\n",
            "|  GPU   GI   CI        PID   Type   Process name                  GPU Memory |\n",
            "|        ID   ID                                                   Usage      |\n",
            "|=============================================================================|\n",
            "|  No running processes found                                                 |\n",
            "+-----------------------------------------------------------------------------+\n"
          ]
        }
      ]
    },
    {
      "cell_type": "code",
      "source": [
        "# DATA \n",
        "weight = 0.9\n",
        "bias = 0.2\n",
        "\n",
        "start = 0\n",
        "end = 1\n",
        "step = 0.02\n",
        "\n",
        "#create x and y (feature and labels)\n",
        "X = torch.arange(start, end, step).unsqueeze(dim=1)\n",
        "y = weight * X + bias\n",
        "\n",
        "X_train, X_test, y_train, y_test = train_test_split(X, y, test_size=0.2, random_state=42)\n"
      ],
      "metadata": {
        "id": "3cNV39vUi84n"
      },
      "execution_count": 4,
      "outputs": []
    },
    {
      "cell_type": "code",
      "source": [
        "# plot data\n",
        "\n",
        "def plot_predictions(X_train=X_train, \n",
        "                      y_train=y_train,\n",
        "                      X_test=X_test,\n",
        "                      y_test=y_test,\n",
        "                      predictions=None):\n",
        "  plt.figure(figsize=(10, 7))\n",
        "  \n",
        "  plt.scatter(X_train, y_train, c=\"b\", s=4, label=\"training data\")\n",
        "\n",
        "  plt.scatter(X_test, y_test, c=\"g\", s=4, label=\"test data\")\n",
        "\n",
        "  if predictions is not None:\n",
        "    plt.scatter(X_test, predictions, c=\"r\", s=4, label=\"predictions\")\n",
        "\n",
        "  plt.legend(prop={\"size\": 14})\n",
        "\n",
        "\n",
        "plot_predictions()"
      ],
      "metadata": {
        "colab": {
          "base_uri": "https://localhost:8080/",
          "height": 599
        },
        "id": "eEhz9DiRkraw",
        "outputId": "4e2384e3-2946-474d-e533-4b84c632af86"
      },
      "execution_count": 5,
      "outputs": [
        {
          "output_type": "display_data",
          "data": {
            "text/plain": [
              "<Figure size 1000x700 with 1 Axes>"
            ],
            "image/png": "[encoded data removed]"
          },
          "metadata": {}
        }
      ]
    },
    {
      "cell_type": "code",
      "source": [
        "#building a model\n",
        "\n",
        "class LinearRegressionModel(nn.Module):\n",
        "  def __init__(self):\n",
        "    super().__init__()\n",
        "    self.linear_layer = nn.Linear(in_features=1,\n",
        "                                  out_features=1)\n",
        "    \n",
        "    \n",
        "  def forward(self, x: torch.Tensor) -> torch.Tensor:\n",
        "    return self.linear_layer(x)\n",
        "\n",
        "\n",
        "model_01 = LinearRegressionModel()\n",
        "\n",
        "model_01, model_01.state_dict()\n"
      ],
      "metadata": {
        "colab": {
          "base_uri": "https://localhost:8080/"
        },
        "id": "BYZbWFXql5Bo",
        "outputId": "20a0ac59-9286-4ff9-8787-5b219d05277e"
      },
      "execution_count": 6,
      "outputs": [
        {
          "output_type": "execute_result",
          "data": {
            "text/plain": [
              "(LinearRegressionModel(\n",
              "   (linear_layer): Linear(in_features=1, out_features=1, bias=True)\n",
              " ),\n",
              " OrderedDict([('linear_layer.weight', tensor([[0.7645]])),\n",
              "              ('linear_layer.bias', tensor([0.8300]))]))"
            ]
          },
          "metadata": {},
          "execution_count": 6
        }
      ]
    },
    {
      "cell_type": "code",
      "source": [
        "# set model to target device\n",
        "\n",
        "device"
      ],
      "metadata": {
        "colab": {
          "base_uri": "https://localhost:8080/",
          "height": 35
        },
        "id": "4_Ii2MPqwD61",
        "outputId": "d2f932ac-8891-4f82-ab15-73e3bb062268"
      },
      "execution_count": 7,
      "outputs": [
        {
          "output_type": "execute_result",
          "data": {
            "text/plain": [
              "'cuda'"
            ],
            "application/vnd.google.colaboratory.intrinsic+json": {
              "type": "string"
            }
          },
          "metadata": {},
          "execution_count": 7
        }
      ]
    },
    {
      "cell_type": "code",
      "source": [
        "# put model and data on device\n",
        "model_01.to(device)\n",
        "\n",
        "X_train = X_train.to(device)\n",
        "y_train = y_train.to(device)\n",
        "X_test = X_test.to(device)\n",
        "y_test = y_test.to(device)"
      ],
      "metadata": {
        "id": "hG9mVngKIQ5C"
      },
      "execution_count": 12,
      "outputs": []
    },
    {
      "cell_type": "code",
      "source": [
        "next(model_01.parameters()).device"
      ],
      "metadata": {
        "colab": {
          "base_uri": "https://localhost:8080/"
        },
        "id": "DGdayTarIdqg",
        "outputId": "27fb9b64-6c51-4373-ccf0-e3fdd6788a54"
      },
      "execution_count": 9,
      "outputs": [
        {
          "output_type": "execute_result",
          "data": {
            "text/plain": [
              "device(type='cuda', index=0)"
            ]
          },
          "metadata": {},
          "execution_count": 9
        }
      ]
    },
    {
      "cell_type": "code",
      "source": [
        "# Training -> loss function, optimizer function\n",
        "\n",
        "loss_fn = nn.L1Loss()\n",
        "\n",
        "learning_rate = 0.01\n",
        "optimizer = torch.optim.SGD(params=model_01.parameters(), lr=learning_rate)\n",
        "\n",
        "# training loop\n",
        "torch.manual_seed(42)\n",
        "num_epochs = 200\n",
        "\n",
        "for epoch in range(num_epochs):\n",
        "\n",
        "  model_01.train()\n",
        "\n",
        "  y_pred = model_01(X_train)\n",
        "\n",
        "  loss = loss_fn(y_pred, y_train)\n",
        "\n",
        "  optimizer.zero_grad()\n",
        "\n",
        "  loss.backward()\n",
        "\n",
        "  optimizer.step()\n",
        "\n",
        "  model_01.eval()\n",
        "  with torch.inference_mode():\n",
        "    test_pred = model_01(X_test)\n",
        "\n",
        "    test_loss = loss_fn(test_pred, y_test)\n",
        "  \n",
        "  if epoch % 10 == 0:\n",
        "    print(f\"epoch: {epoch + 1} | loss: {loss} | testLoss: {test_loss}\")\n",
        "\n"
      ],
      "metadata": {
        "colab": {
          "base_uri": "https://localhost:8080/"
        },
        "id": "HDKJdL8AIi4r",
        "outputId": "f26f607d-85d9-4ce3-a4cb-73c9b726b62f"
      },
      "execution_count": 13,
      "outputs": [
        {
          "output_type": "stream",
          "name": "stdout",
          "text": [
            "epoch: 1 | loss: 0.5669506192207336 | testLoss: 0.5376195311546326\n",
            "epoch: 11 | loss: 0.4452817142009735 | testLoss: 0.4102481007575989\n",
            "epoch: 21 | loss: 0.3236127197742462 | testLoss: 0.28287678956985474\n",
            "epoch: 31 | loss: 0.2019437849521637 | testLoss: 0.1555054634809494\n",
            "epoch: 41 | loss: 0.10958810895681381 | testLoss: 0.07546550035476685\n",
            "epoch: 51 | loss: 0.09053169935941696 | testLoss: 0.06020322069525719\n",
            "epoch: 61 | loss: 0.08198826014995575 | testLoss: 0.055671822279691696\n",
            "epoch: 71 | loss: 0.0757984146475792 | testLoss: 0.05241001769900322\n",
            "epoch: 81 | loss: 0.07010593265295029 | testLoss: 0.04873275011777878\n",
            "epoch: 91 | loss: 0.06452774256467819 | testLoss: 0.04480169713497162\n",
            "epoch: 101 | loss: 0.058942582458257675 | testLoss: 0.040870632976293564\n",
            "epoch: 111 | loss: 0.053365327417850494 | testLoss: 0.03699033334851265\n",
            "epoch: 121 | loss: 0.047780152410268784 | testLoss: 0.033059265464544296\n",
            "epoch: 131 | loss: 0.0422029085457325 | testLoss: 0.029178975149989128\n",
            "epoch: 141 | loss: 0.036617737263441086 | testLoss: 0.025247907266020775\n",
            "epoch: 151 | loss: 0.03103862702846527 | testLoss: 0.02136760950088501\n",
            "epoch: 161 | loss: 0.02545532025396824 | testLoss: 0.017436543479561806\n",
            "epoch: 171 | loss: 0.019873052835464478 | testLoss: 0.013556236401200294\n",
            "epoch: 181 | loss: 0.014292890205979347 | testLoss: 0.009625173173844814\n",
            "epoch: 191 | loss: 0.008707712404429913 | testLoss: 0.005694118328392506\n"
          ]
        }
      ]
    },
    {
      "cell_type": "code",
      "source": [
        "model_01.state_dict()"
      ],
      "metadata": {
        "colab": {
          "base_uri": "https://localhost:8080/"
        },
        "id": "himwSPi8LfyL",
        "outputId": "0083757c-fe47-4f29-a3cb-799844928ff7"
      },
      "execution_count": 14,
      "outputs": [
        {
          "output_type": "execute_result",
          "data": {
            "text/plain": [
              "OrderedDict([('linear_layer.weight', tensor([[0.8882]], device='cuda:0')),\n",
              "             ('linear_layer.bias', tensor([0.2060], device='cuda:0'))])"
            ]
          },
          "metadata": {},
          "execution_count": 14
        }
      ]
    },
    {
      "cell_type": "code",
      "source": [
        "with torch.inference_mode():\n",
        "  y_pred_plot = model_01(X_test)\n",
        "\n",
        "plot_predictions(predictions=y_pred_plot.cpu())\n"
      ],
      "metadata": {
        "colab": {
          "base_uri": "https://localhost:8080/",
          "height": 599
        },
        "id": "isOXUe_SMF1y",
        "outputId": "d904e9c3-346d-4ed7-8c12-278af59a1a51"
      },
      "execution_count": 16,
      "outputs": [
        {
          "output_type": "display_data",
          "data": {
            "text/plain": [
              "<Figure size 1000x700 with 1 Axes>"
            ],
            "image/png": "[encoded data removed]"
          },
          "metadata": {}
        }
      ]
    },
    {
      "cell_type": "code",
      "source": [
        "## save the model\n",
        "from pathlib import Path\n",
        "\n",
        "# make dir\n",
        "MODEL_PATH = Path('models')\n",
        "MODEL_PATH.mkdir(parents=True, exist_ok=True)\n",
        "\n",
        "\n",
        "MODEL_NAME = '01_pytorch_workflow_model_01.pth'\n",
        "MODEL_SAVE_PATH = MODEL_PATH / MODEL_NAME\n",
        "\n",
        "print(f\"saving model to: {MODEL_SAVE_PATH}\")\n",
        "torch.save(obj=model_01.state_dict(), \n",
        "           f=MODEL_SAVE_PATH)\n"
      ],
      "metadata": {
        "colab": {
          "base_uri": "https://localhost:8080/"
        },
        "id": "w09x2M8CMo16",
        "outputId": "3a658ada-801c-4c8b-d1ca-d3d09449ffe9"
      },
      "execution_count": 17,
      "outputs": [
        {
          "output_type": "stream",
          "name": "stdout",
          "text": [
            "saving model to: models/01_pytorch_workflow_model_01.pth\n"
          ]
        }
      ]
    },
    {
      "cell_type": "code",
      "source": [
        "# load the model back up\n",
        "\n",
        "# create new instanct of lin reg model\n",
        "model_01_loaded = LinearRegressionModel()\n",
        "\n",
        "# load the saved model_1 state dict\n",
        "model_01_loaded.load_state_dict(torch.load(MODEL_SAVE_PATH))\n",
        "\n",
        "# send model to device\n",
        "model_01_loaded.to(device)\n",
        "\n"
      ],
      "metadata": {
        "colab": {
          "base_uri": "https://localhost:8080/"
        },
        "id": "jrcjgicQPl9s",
        "outputId": "5b2b99c6-8441-4c58-eded-016c6213a857"
      },
      "execution_count": 18,
      "outputs": [
        {
          "output_type": "execute_result",
          "data": {
            "text/plain": [
              "LinearRegressionModel(\n",
              "  (linear_layer): Linear(in_features=1, out_features=1, bias=True)\n",
              ")"
            ]
          },
          "metadata": {},
          "execution_count": 18
        }
      ]
    },
    {
      "cell_type": "code",
      "source": [
        "model_01_loaded.eval()\n",
        "\n",
        "with torch.inference_mode():\n",
        "  y_loaded_pred = model_01_loaded(X_test)\n",
        "\n",
        "plot_predictions(predictions=y_loaded_pred.cpu())\n"
      ],
      "metadata": {
        "colab": {
          "base_uri": "https://localhost:8080/",
          "height": 599
        },
        "id": "plqqCUXNPy3U",
        "outputId": "41cf61b5-2d5e-4a45-bf3f-a87b81746f5b"
      },
      "execution_count": 21,
      "outputs": [
        {
          "output_type": "display_data",
          "data": {
            "text/plain": [
              "<Figure size 1000x700 with 1 Axes>"
            ],
            "image/png": "[encoded data removed]"
          },
          "metadata": {}
        }
      ]
    },
    {
      "cell_type": "code",
      "source": [],
      "metadata": {
        "id": "BmYTrwTsRIMz"
      },
      "execution_count": null,
      "outputs": []
    }
  ]
}